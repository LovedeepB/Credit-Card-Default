{
 "cells": [
  {
   "cell_type": "markdown",
   "metadata": {},
   "source": [
    "# Credit Card Default Classification \n",
    "\n",
    "__Features:__  \n",
    "__LIMIT_BAL__: amount of given credit in dollars  \n",
    "__SEX__: 1 = Male, 2 = Female  \n",
    "__EDUCATION__: 1 = graduate school, 2 = university, 3 = high school, 4 = others, 5 = unknown, 6 = unknown  \n",
    "__MARRIAGE__: 1 = Married, 2 = Single, 3 = others  \n",
    "__AGE__: in years  \n",
    "\n",
    "__PAY_0__: repayment status in September, 2005.   \n",
    "__PAY_2__: repayment status in August 2005  \n",
    "__PAY_3__: repayment status in July 2005  \n",
    "__PAY_4__: repayment status in JUne 2005  \n",
    "__PAY_5__: repayment status in May 2005  \n",
    "__PAY_6__: repayment status in April 2005  \n",
    "Scale used for the PAY_0-PAY_6: -2 = no consumption(didn't use any money),-1 = pay duly, 0= the use of revolving credit(use money and pay it back over time), 1 = payment delay 1 month, 2 = payment delay for two months, .... 8 = payment delay for eight months, 9 = payment delay for nine months and above    \n",
    "\n",
    "__BILL_AMT1__: Amount of bill statement in September, 2005   \n",
    "__BILL_AMT2__: Amount of bill statement in August, 2005   \n",
    "__BILL_AMT3__: Amount of bill statement in July, 2005   \n",
    "__BILL_AMT4__: Amount of bill statement in June, 2005   \n",
    "__BILL_AMT5__: Amount of bill statement in May, 2005  \n",
    "__BILL_AMT6__: Amount of bill statement in April, 2005   \n",
    "\n",
    "__PAY_AMT1__: Amount of previous payment in September, 2005   \n",
    "__PAY_AMT2__: Amount of previous payment in August, 2005   \n",
    "__PAY_AMT3__: Amount of previous payment in July, 2005  \n",
    "__PAY_AMT4__: Amount of previous payment in June, 2005  \n",
    "__PAY_AMT5__: Amount of previous payment in May, 2005  \n",
    "__PAY_AMT6__: Amount of previous payment in April, 2005  \n",
    "\n",
    "__Label:__  \n",
    "__default payment next month__: 1 = yes, 0 = no\n",
    "\n",
    "<br />"
   ]
  },
  {
   "cell_type": "code",
   "execution_count": 1,
   "metadata": {},
   "outputs": [],
   "source": [
    "import findspark \n",
    "findspark.init()\n",
    "import pyspark "
   ]
  },
  {
   "cell_type": "code",
   "execution_count": 2,
   "metadata": {},
   "outputs": [],
   "source": [
    "from pyspark import SparkContext, SparkConf\n",
    "from pyspark.sql import SparkSession\n",
    "conf = pyspark.SparkConf().setAppName('SparkApp').setMaster('local')\n",
    "sc = pyspark.SparkContext(conf = conf)\n",
    "spark = SparkSession(sc)"
   ]
  },
  {
   "cell_type": "code",
   "execution_count": 3,
   "metadata": {},
   "outputs": [],
   "source": [
    "# reading in the csv file \n",
    "file_location = 'default_of_credit_card.csv'\n",
    "file_type = 'csv'\n",
    "\n",
    "# csv options \n",
    "infer_schema = 'true'\n",
    "delimiter = ','\n",
    "first_row_is_header = 'true'\n",
    "\n",
    "df = spark.read.format(file_type).option('infer_schema', infer_schema)\\\n",
    "        .option('header', first_row_is_header).option('sep', delimiter).option('nanValue', ' ').option('nullValue', ' ')\\\n",
    "        .load(file_location)"
   ]
  },
  {
   "cell_type": "code",
   "execution_count": 4,
   "metadata": {},
   "outputs": [
    {
     "data": {
      "text/plain": [
       "['ID',\n",
       " 'LIMIT_BAL',\n",
       " 'SEX',\n",
       " 'EDUCATION',\n",
       " 'MARRIAGE',\n",
       " 'AGE',\n",
       " 'PAY_0',\n",
       " 'PAY_2',\n",
       " 'PAY_3',\n",
       " 'PAY_4',\n",
       " 'PAY_5',\n",
       " 'PAY_6',\n",
       " 'BILL_AMT1',\n",
       " 'BILL_AMT2',\n",
       " 'BILL_AMT3',\n",
       " 'BILL_AMT4',\n",
       " 'BILL_AMT5',\n",
       " 'BILL_AMT6',\n",
       " 'PAY_AMT1',\n",
       " 'PAY_AMT2',\n",
       " 'PAY_AMT3',\n",
       " 'PAY_AMT4',\n",
       " 'PAY_AMT5',\n",
       " 'PAY_AMT6',\n",
       " 'default payment next month']"
      ]
     },
     "execution_count": 4,
     "metadata": {},
     "output_type": "execute_result"
    }
   ],
   "source": [
    "# seeing the column names\n",
    "df.columns"
   ]
  },
  {
   "cell_type": "code",
   "execution_count": 5,
   "metadata": {},
   "outputs": [
    {
     "name": "stdout",
     "output_type": "stream",
     "text": [
      "root\n",
      " |-- ID: string (nullable = true)\n",
      " |-- LIMIT_BAL: string (nullable = true)\n",
      " |-- SEX: string (nullable = true)\n",
      " |-- EDUCATION: string (nullable = true)\n",
      " |-- MARRIAGE: string (nullable = true)\n",
      " |-- AGE: string (nullable = true)\n",
      " |-- PAY_0: string (nullable = true)\n",
      " |-- PAY_2: string (nullable = true)\n",
      " |-- PAY_3: string (nullable = true)\n",
      " |-- PAY_4: string (nullable = true)\n",
      " |-- PAY_5: string (nullable = true)\n",
      " |-- PAY_6: string (nullable = true)\n",
      " |-- BILL_AMT1: string (nullable = true)\n",
      " |-- BILL_AMT2: string (nullable = true)\n",
      " |-- BILL_AMT3: string (nullable = true)\n",
      " |-- BILL_AMT4: string (nullable = true)\n",
      " |-- BILL_AMT5: string (nullable = true)\n",
      " |-- BILL_AMT6: string (nullable = true)\n",
      " |-- PAY_AMT1: string (nullable = true)\n",
      " |-- PAY_AMT2: string (nullable = true)\n",
      " |-- PAY_AMT3: string (nullable = true)\n",
      " |-- PAY_AMT4: string (nullable = true)\n",
      " |-- PAY_AMT5: string (nullable = true)\n",
      " |-- PAY_AMT6: string (nullable = true)\n",
      " |-- default payment next month: string (nullable = true)\n",
      "\n"
     ]
    }
   ],
   "source": [
    "df.printSchema()"
   ]
  },
  {
   "cell_type": "code",
   "execution_count": 6,
   "metadata": {},
   "outputs": [],
   "source": [
    "# removing Id column \n",
    "df = df.drop('ID')\n",
    "\n",
    "# renaming PAY_0 and the class label as default\n",
    "df = df.withColumnRenamed('PAY_0', 'PAY_1').withColumnRenamed('default payment next month', 'DEFAULT')"
   ]
  },
  {
   "cell_type": "code",
   "execution_count": 7,
   "metadata": {},
   "outputs": [
    {
     "data": {
      "text/plain": [
       "['LIMIT_BAL',\n",
       " 'SEX',\n",
       " 'EDUCATION',\n",
       " 'MARRIAGE',\n",
       " 'AGE',\n",
       " 'PAY_1',\n",
       " 'PAY_2',\n",
       " 'PAY_3',\n",
       " 'PAY_4',\n",
       " 'PAY_5',\n",
       " 'PAY_6',\n",
       " 'BILL_AMT1',\n",
       " 'BILL_AMT2',\n",
       " 'BILL_AMT3',\n",
       " 'BILL_AMT4',\n",
       " 'BILL_AMT5',\n",
       " 'BILL_AMT6',\n",
       " 'PAY_AMT1',\n",
       " 'PAY_AMT2',\n",
       " 'PAY_AMT3',\n",
       " 'PAY_AMT4',\n",
       " 'PAY_AMT5',\n",
       " 'PAY_AMT6',\n",
       " 'DEFAULT']"
      ]
     },
     "execution_count": 7,
     "metadata": {},
     "output_type": "execute_result"
    }
   ],
   "source": [
    "# making sure the column names were replaced correctly\n",
    "df.columns"
   ]
  },
  {
   "cell_type": "code",
   "execution_count": 8,
   "metadata": {},
   "outputs": [],
   "source": [
    "from pyspark.sql.functions import col\n",
    "from pyspark.sql.types import IntegerType"
   ]
  },
  {
   "cell_type": "code",
   "execution_count": 9,
   "metadata": {},
   "outputs": [],
   "source": [
    "# convert all the string types to integer type\n",
    "df = df.select(*(col(c).cast(IntegerType()).alias(c) for c in df.columns))"
   ]
  },
  {
   "cell_type": "markdown",
   "metadata": {},
   "source": [
    "## DATA CLEANING"
   ]
  },
  {
   "cell_type": "markdown",
   "metadata": {},
   "source": [
    "<br /> \n",
    "\n",
    "### Dropping duplicates"
   ]
  },
  {
   "cell_type": "code",
   "execution_count": 10,
   "metadata": {},
   "outputs": [
    {
     "name": "stdout",
     "output_type": "stream",
     "text": [
      "There are 30000 number of rows before droping the duplicates\n",
      "There are 29965 number of rows before droping the duplicates\n",
      "I would be removing 35 rows\n"
     ]
    }
   ],
   "source": [
    "# how many values are there before you remove the duplicates \n",
    "print('There are %s number of rows before droping the duplicates' %(df.count()))\n",
    "# checking to see how many duplicates there are \n",
    "print('There are %s number of rows before droping the duplicates' %(df.dropDuplicates().count()))\n",
    "# how many rows would I drop \n",
    "print('I would be removing %s rows' %(df.count() - df.dropDuplicates().count()))"
   ]
  },
  {
   "cell_type": "code",
   "execution_count": 11,
   "metadata": {},
   "outputs": [],
   "source": [
    "# removing duplicates because there aren't too many of them \n",
    "df = df.dropDuplicates()"
   ]
  },
  {
   "cell_type": "markdown",
   "metadata": {},
   "source": [
    "<br /> \n",
    "\n",
    "### Checking for missing values"
   ]
  },
  {
   "cell_type": "code",
   "execution_count": 12,
   "metadata": {},
   "outputs": [
    {
     "name": "stdout",
     "output_type": "stream",
     "text": [
      "+---------+---+---------+--------+---+-----+-----+-----+-----+-----+-----+---------+---------+---------+---------+---------+---------+--------+--------+--------+--------+--------+--------+-------+\n",
      "|LIMIT_BAL|SEX|EDUCATION|MARRIAGE|AGE|PAY_1|PAY_2|PAY_3|PAY_4|PAY_5|PAY_6|BILL_AMT1|BILL_AMT2|BILL_AMT3|BILL_AMT4|BILL_AMT5|BILL_AMT6|PAY_AMT1|PAY_AMT2|PAY_AMT3|PAY_AMT4|PAY_AMT5|PAY_AMT6|DEFAULT|\n",
      "+---------+---+---------+--------+---+-----+-----+-----+-----+-----+-----+---------+---------+---------+---------+---------+---------+--------+--------+--------+--------+--------+--------+-------+\n",
      "|        0|  0|        0|       0|  0|    0|    0|    0|    0|    0|    0|        0|        0|        0|        0|        0|        0|       0|       0|       0|       0|       0|       0|      0|\n",
      "+---------+---+---------+--------+---+-----+-----+-----+-----+-----+-----+---------+---------+---------+---------+---------+---------+--------+--------+--------+--------+--------+--------+-------+\n",
      "\n"
     ]
    }
   ],
   "source": [
    "from pyspark.sql.functions import when, isnan, count\n",
    "\n",
    "# checking to see if there are any nan or null values in any of the columns \n",
    "df.select([count(when(isnan(c) | col(c).isNull(), c)).alias(c) for c in df.columns]).show()"
   ]
  },
  {
   "cell_type": "markdown",
   "metadata": {},
   "source": [
    "### Removing Outliers "
   ]
  },
  {
   "cell_type": "markdown",
   "metadata": {},
   "source": [
    "<br /> \n",
    "\n",
    "#### AGE \n",
    "\n",
    "Checking to make sure there are no negative or 0 values for age. Also make sure the age isn't higher than 100. If the age is younger than 18 remove them because they shouldn't be able to have a credit card yet. "
   ]
  },
  {
   "cell_type": "code",
   "execution_count": 13,
   "metadata": {},
   "outputs": [
    {
     "name": "stdout",
     "output_type": "stream",
     "text": [
      "+--------+\n",
      "|min(AGE)|\n",
      "+--------+\n",
      "|      21|\n",
      "+--------+\n",
      "\n"
     ]
    }
   ],
   "source": [
    "# viewing the minimum age in the dataset\n",
    "df.agg({'AGE': 'min'}).show()"
   ]
  },
  {
   "cell_type": "code",
   "execution_count": 14,
   "metadata": {},
   "outputs": [
    {
     "name": "stdout",
     "output_type": "stream",
     "text": [
      "+--------+\n",
      "|max(AGE)|\n",
      "+--------+\n",
      "|      79|\n",
      "+--------+\n",
      "\n"
     ]
    }
   ],
   "source": [
    "# viewing the maximum age in the dataset \n",
    "df.agg({'AGE': 'max'}).show()"
   ]
  },
  {
   "cell_type": "markdown",
   "metadata": {},
   "source": [
    "<br /> \n",
    "\n",
    "#### LIMIT_BAL\n",
    "Make sure none of the values are 0 or lower"
   ]
  },
  {
   "cell_type": "code",
   "execution_count": 15,
   "metadata": {},
   "outputs": [
    {
     "name": "stdout",
     "output_type": "stream",
     "text": [
      "+--------------+\n",
      "|min(LIMIT_BAL)|\n",
      "+--------------+\n",
      "|         10000|\n",
      "+--------------+\n",
      "\n"
     ]
    }
   ],
   "source": [
    "# viewing the lowest limit balance in the dataset\n",
    "df.agg({'LIMIT_BAL': 'min'}).show()"
   ]
  },
  {
   "cell_type": "markdown",
   "metadata": {},
   "source": [
    "<br /> \n",
    "\n",
    "#### SEX\n",
    "Make sure there are only 2 values in the dataset. Also instead of 1 representing Males make it 0 and for females change it from 2 to 1"
   ]
  },
  {
   "cell_type": "code",
   "execution_count": 16,
   "metadata": {},
   "outputs": [
    {
     "name": "stdout",
     "output_type": "stream",
     "text": [
      "+---+\n",
      "|SEX|\n",
      "+---+\n",
      "|  1|\n",
      "|  2|\n",
      "+---+\n",
      "\n"
     ]
    }
   ],
   "source": [
    "# seeing if sex only hold 2 values\n",
    "df.select('SEX').distinct().show()"
   ]
  },
  {
   "cell_type": "code",
   "execution_count": 17,
   "metadata": {},
   "outputs": [
    {
     "name": "stdout",
     "output_type": "stream",
     "text": [
      "+---------+---+---------+--------+---+-----+-----+-----+-----+-----+-----+---------+---------+---------+---------+---------+---------+--------+--------+--------+--------+--------+--------+-------+\n",
      "|LIMIT_BAL|SEX|EDUCATION|MARRIAGE|AGE|PAY_1|PAY_2|PAY_3|PAY_4|PAY_5|PAY_6|BILL_AMT1|BILL_AMT2|BILL_AMT3|BILL_AMT4|BILL_AMT5|BILL_AMT6|PAY_AMT1|PAY_AMT2|PAY_AMT3|PAY_AMT4|PAY_AMT5|PAY_AMT6|DEFAULT|\n",
      "+---------+---+---------+--------+---+-----+-----+-----+-----+-----+-----+---------+---------+---------+---------+---------+---------+--------+--------+--------+--------+--------+--------+-------+\n",
      "|   350000|  1|        3|       1| 44|   -1|   -1|   -1|   -1|   -1|   -2|     3265|     2686|     1864|      569|        0|        0|    2686|    1864|     569|       0|       0|       0|      0|\n",
      "+---------+---+---------+--------+---+-----+-----+-----+-----+-----+-----+---------+---------+---------+---------+---------+---------+--------+--------+--------+--------+--------+--------+-------+\n",
      "only showing top 1 row\n",
      "\n"
     ]
    }
   ],
   "source": [
    "df.show(1)"
   ]
  },
  {
   "cell_type": "code",
   "execution_count": 18,
   "metadata": {},
   "outputs": [],
   "source": [
    "# replace 1 with 0 so men are represented by 0 and make 1 represent female \n",
    "df = df.withColumn('SEX', when(df.SEX == 1, 0).otherwise(1))"
   ]
  },
  {
   "cell_type": "code",
   "execution_count": 19,
   "metadata": {},
   "outputs": [
    {
     "name": "stdout",
     "output_type": "stream",
     "text": [
      "+---+\n",
      "|SEX|\n",
      "+---+\n",
      "|  1|\n",
      "|  0|\n",
      "+---+\n",
      "\n"
     ]
    }
   ],
   "source": [
    "# checking to see what values the SEX feature holds now \n",
    "df.select('SEX').distinct().show()"
   ]
  },
  {
   "cell_type": "code",
   "execution_count": 20,
   "metadata": {},
   "outputs": [
    {
     "name": "stdout",
     "output_type": "stream",
     "text": [
      "+---------+---+---------+--------+---+-----+-----+-----+-----+-----+-----+---------+---------+---------+---------+---------+---------+--------+--------+--------+--------+--------+--------+-------+\n",
      "|LIMIT_BAL|SEX|EDUCATION|MARRIAGE|AGE|PAY_1|PAY_2|PAY_3|PAY_4|PAY_5|PAY_6|BILL_AMT1|BILL_AMT2|BILL_AMT3|BILL_AMT4|BILL_AMT5|BILL_AMT6|PAY_AMT1|PAY_AMT2|PAY_AMT3|PAY_AMT4|PAY_AMT5|PAY_AMT6|DEFAULT|\n",
      "+---------+---+---------+--------+---+-----+-----+-----+-----+-----+-----+---------+---------+---------+---------+---------+---------+--------+--------+--------+--------+--------+--------+-------+\n",
      "|   350000|  0|        3|       1| 44|   -1|   -1|   -1|   -1|   -1|   -2|     3265|     2686|     1864|      569|        0|        0|    2686|    1864|     569|       0|       0|       0|      0|\n",
      "+---------+---+---------+--------+---+-----+-----+-----+-----+-----+-----+---------+---------+---------+---------+---------+---------+--------+--------+--------+--------+--------+--------+-------+\n",
      "only showing top 1 row\n",
      "\n"
     ]
    }
   ],
   "source": [
    "# making sure the replace worked correctly\n",
    "df.show(1)"
   ]
  },
  {
   "cell_type": "markdown",
   "metadata": {},
   "source": [
    "<br /> \n",
    "\n",
    "#### EDUCATION"
   ]
  },
  {
   "cell_type": "code",
   "execution_count": 21,
   "metadata": {},
   "outputs": [
    {
     "name": "stdout",
     "output_type": "stream",
     "text": [
      "+---------+\n",
      "|EDUCATION|\n",
      "+---------+\n",
      "|        0|\n",
      "|        1|\n",
      "|        2|\n",
      "|        3|\n",
      "|        4|\n",
      "|        5|\n",
      "|        6|\n",
      "+---------+\n",
      "\n"
     ]
    }
   ],
   "source": [
    "# seeing all the unique values in the educations columns\n",
    "df.select('EDUCATION').sort(col('EDUCATION').asc()).distinct().show()"
   ]
  },
  {
   "cell_type": "markdown",
   "metadata": {},
   "source": [
    "The education column should only contain values 1-6 and including 6. But it shouldn't include 0. "
   ]
  },
  {
   "cell_type": "code",
   "execution_count": 22,
   "metadata": {},
   "outputs": [
    {
     "data": {
      "text/plain": [
       "14"
      ]
     },
     "execution_count": 22,
     "metadata": {},
     "output_type": "execute_result"
    }
   ],
   "source": [
    "# checking how many values in the dataframe contain a 0 for EDUCATION \n",
    "df.select('EDUCATION').where(col('EDUCATION') == 0).count()"
   ]
  },
  {
   "cell_type": "code",
   "execution_count": 23,
   "metadata": {},
   "outputs": [
    {
     "name": "stdout",
     "output_type": "stream",
     "text": [
      "You will kept 99.83666666666666 % of the original data\n"
     ]
    }
   ],
   "source": [
    "# checking to see how much of the original data we will have if we remove these 14 values \n",
    "og_len = 30000\n",
    "print('You will kept',((og_len - (35 + 14))/og_len) * 100, '% of the original data')"
   ]
  },
  {
   "cell_type": "code",
   "execution_count": 24,
   "metadata": {},
   "outputs": [],
   "source": [
    "# I am going to remove the 14 values because even after removing the duplicates and after we remove these 14 values we would \n",
    "# not have removed more than 1% of the original data \n",
    "df = df.filter(col('EDUCATION') != 0)"
   ]
  },
  {
   "cell_type": "code",
   "execution_count": 25,
   "metadata": {},
   "outputs": [
    {
     "name": "stdout",
     "output_type": "stream",
     "text": [
      "+---------+\n",
      "|EDUCATION|\n",
      "+---------+\n",
      "|        1|\n",
      "|        2|\n",
      "|        3|\n",
      "|        4|\n",
      "|        5|\n",
      "|        6|\n",
      "+---------+\n",
      "\n"
     ]
    }
   ],
   "source": [
    "# making sure we don't have 0 in the education column\n",
    "df.select('EDUCATION').sort(col('EDUCATION').asc()).distinct().show()"
   ]
  },
  {
   "cell_type": "markdown",
   "metadata": {},
   "source": [
    "<br /> \n",
    "\n",
    "#### MARRIAGE"
   ]
  },
  {
   "cell_type": "code",
   "execution_count": 26,
   "metadata": {},
   "outputs": [
    {
     "name": "stdout",
     "output_type": "stream",
     "text": [
      "+--------+\n",
      "|MARRIAGE|\n",
      "+--------+\n",
      "|       1|\n",
      "|       3|\n",
      "|       2|\n",
      "|       0|\n",
      "+--------+\n",
      "\n"
     ]
    }
   ],
   "source": [
    "df.select('MARRIAGE').distinct().show()"
   ]
  },
  {
   "cell_type": "code",
   "execution_count": 27,
   "metadata": {},
   "outputs": [
    {
     "data": {
      "text/plain": [
       "54"
      ]
     },
     "execution_count": 27,
     "metadata": {},
     "output_type": "execute_result"
    }
   ],
   "source": [
    "# see how many rows have 0 in the marriage column \n",
    "df.select('MARRIAGE').filter('MARRIAGE == 0').count()"
   ]
  },
  {
   "cell_type": "code",
   "execution_count": 28,
   "metadata": {},
   "outputs": [
    {
     "name": "stdout",
     "output_type": "stream",
     "text": [
      "The percentage of data you would have kept from the original is 99.65666666666667 \n"
     ]
    }
   ],
   "source": [
    "# see how much of the original data I would be getting rid of if I also remove these 54 rows\n",
    "\n",
    "\n",
    "# current length is the equal to the rows that arent duplicates and that don't contain a 0 for education \n",
    "current_len = 29965 - 14\n",
    "\n",
    "\n",
    "print('The percentage of data you would have kept from the original is %s ' %((current_len - 54)/og_len * 100)) "
   ]
  },
  {
   "cell_type": "code",
   "execution_count": 29,
   "metadata": {},
   "outputs": [],
   "source": [
    "# removing the 54 rows \n",
    "df = df.filter('MARRIAGE != 0')"
   ]
  },
  {
   "cell_type": "markdown",
   "metadata": {},
   "source": [
    "<br /> \n",
    "\n",
    "#### PAY_1 - PAY_6\n",
    "\n",
    "checking to see if any of the columns contain values that aren't inbetween -2 and 9"
   ]
  },
  {
   "cell_type": "code",
   "execution_count": 30,
   "metadata": {},
   "outputs": [
    {
     "data": {
      "text/plain": [
       "29897"
      ]
     },
     "execution_count": 30,
     "metadata": {},
     "output_type": "execute_result"
    }
   ],
   "source": [
    "# how many rows of data are there in the dataframe\n",
    "df.count()"
   ]
  },
  {
   "cell_type": "code",
   "execution_count": 31,
   "metadata": {},
   "outputs": [],
   "source": [
    "# importing the required libraries\n",
    "from pyspark.sql.functions import min, max"
   ]
  },
  {
   "cell_type": "code",
   "execution_count": 32,
   "metadata": {},
   "outputs": [
    {
     "name": "stdout",
     "output_type": "stream",
     "text": [
      "+----------+----------+----------+----------+----------+----------+\n",
      "|min(PAY_1)|min(PAY_2)|min(PAY_3)|min(PAY_4)|min(PAY_5)|min(PAY_6)|\n",
      "+----------+----------+----------+----------+----------+----------+\n",
      "|        -2|        -2|        -2|        -2|        -2|        -2|\n",
      "+----------+----------+----------+----------+----------+----------+\n",
      "\n"
     ]
    }
   ],
   "source": [
    "# checking the min values\n",
    "df.select(*(min(column) for column in ['PAY_' + str(i) for i in range(1,7,1)])).show()"
   ]
  },
  {
   "cell_type": "code",
   "execution_count": 33,
   "metadata": {},
   "outputs": [
    {
     "name": "stdout",
     "output_type": "stream",
     "text": [
      "+----------+----------+----------+----------+----------+----------+\n",
      "|max(PAY_1)|max(PAY_2)|max(PAY_3)|max(PAY_4)|max(PAY_5)|max(PAY_6)|\n",
      "+----------+----------+----------+----------+----------+----------+\n",
      "|         8|         8|         8|         8|         8|         8|\n",
      "+----------+----------+----------+----------+----------+----------+\n",
      "\n"
     ]
    }
   ],
   "source": [
    "# checking the max values\n",
    "df.select(*(max(column) for column in ['PAY_' + str(i) for i in range(1,7,1)])).show()"
   ]
  },
  {
   "cell_type": "markdown",
   "metadata": {},
   "source": [
    "<br /> \n",
    "\n",
    "\n",
    "## EXPLANATORY ANALYSIS \n",
    "\n",
    "Since this dataset isn't big data I won't have to take a sample of the data to plot. Also I will first be editing the data to look a certain way so the plots are easier to read/understand before creating the plots "
   ]
  },
  {
   "cell_type": "code",
   "execution_count": 34,
   "metadata": {},
   "outputs": [],
   "source": [
    "# importing required libraries\n",
    "import matplotlib.pyplot as plt\n",
    "import seaborn as sns\n",
    "\n",
    "%matplotlib inline"
   ]
  },
  {
   "cell_type": "code",
   "execution_count": 35,
   "metadata": {},
   "outputs": [],
   "source": [
    "# setting the style of the plots and creating the palette to be used \n",
    "sns.set_style(\"ticks\")\n",
    "palette = ['#222831','#c05555']"
   ]
  },
  {
   "cell_type": "code",
   "execution_count": 36,
   "metadata": {},
   "outputs": [],
   "source": [
    "# create a function to create the a single plot\n",
    "def create_plot(df, x,title, xlab, ylab = ' ',hue = 'Defaulted', figsize = (12, 8)):\n",
    "    # create the figure size\n",
    "    plt.figure(figsize = figsize)\n",
    "    \n",
    "    # create the count plot \n",
    "    sns.countplot(data = df, x = x, hue = hue, palette = palette)\n",
    "    \n",
    "    # create the title, x label, y label\n",
    "    plt.title(\n",
    "        title, # the title to be printed\n",
    "        fontsize = 20, # increasing the size of the title\n",
    "        fontweight = 'bold', # making title bold\n",
    "        y = 1.02 # moving title up\n",
    "    )\n",
    "    \n",
    "    plt.xlabel(\n",
    "        xlab, # the x label \n",
    "        size = 12 # the size of the x label\n",
    "    )\n",
    "    \n",
    "    plt.ylabel(\n",
    "        ylab # plot the y label\n",
    "    )\n",
    "    \n",
    "    plt.xticks(\n",
    "        size = 12\n",
    "    )\n",
    "    \n",
    "    plt.yticks(\n",
    "        size = 12 # increasing the y axis values size \n",
    "    )\n",
    "    \n",
    "    plt.show()"
   ]
  },
  {
   "cell_type": "code",
   "execution_count": 37,
   "metadata": {},
   "outputs": [],
   "source": [
    "# function to create subplots \n",
    "def create_subplots(df, x, title, row = 6, col = 1, xlab = ' ', ylab = ' ', hue = 'Defaulted', figsize = (15, 8)):\n",
    "    fig, ax = plt.subplots(row, col, figsize = figsize) # defining how many rows and column are to be created\n",
    "    for i in range(row):\n",
    "        xlab = x[i] # make the x label the name of the x that is being plotted\n",
    "        sns.countplot(data = df, x = x[i], hue = hue, palette = palette, ax = ax[i]) # create the plot\n",
    "        ax[i].set_xlabel(xlab, size = 12) # creating the x label \n",
    "        ax[i].set_ylabel(ylab) # creating the y label\n",
    "    \n",
    "    plt.subplots_adjust(bottom = -0.4) # creating some space between the plots\n",
    "    plt.show()"
   ]
  },
  {
   "cell_type": "code",
   "execution_count": 38,
   "metadata": {},
   "outputs": [
    {
     "data": {
      "text/plain": [
       "['LIMIT_BAL',\n",
       " 'SEX',\n",
       " 'EDUCATION',\n",
       " 'MARRIAGE',\n",
       " 'AGE',\n",
       " 'PAY_1',\n",
       " 'PAY_2',\n",
       " 'PAY_3',\n",
       " 'PAY_4',\n",
       " 'PAY_5',\n",
       " 'PAY_6',\n",
       " 'BILL_AMT1',\n",
       " 'BILL_AMT2',\n",
       " 'BILL_AMT3',\n",
       " 'BILL_AMT4',\n",
       " 'BILL_AMT5',\n",
       " 'BILL_AMT6',\n",
       " 'PAY_AMT1',\n",
       " 'PAY_AMT2',\n",
       " 'PAY_AMT3',\n",
       " 'PAY_AMT4',\n",
       " 'PAY_AMT5',\n",
       " 'PAY_AMT6',\n",
       " 'DEFAULT']"
      ]
     },
     "execution_count": 38,
     "metadata": {},
     "output_type": "execute_result"
    }
   ],
   "source": [
    "df.columns"
   ]
  },
  {
   "cell_type": "markdown",
   "metadata": {},
   "source": [
    "<br /> \n",
    "\n",
    "### DEFAULT"
   ]
  },
  {
   "cell_type": "code",
   "execution_count": 39,
   "metadata": {},
   "outputs": [],
   "source": [
    "# importing required libraries\n",
    "from pyspark.sql.functions import udf\n",
    "from pyspark.sql.types import StringType"
   ]
  },
  {
   "cell_type": "code",
   "execution_count": 40,
   "metadata": {},
   "outputs": [],
   "source": [
    "# converting the data from 0 and 1 to No and Yes\n",
    "def convert_default(default):\n",
    "    if default == 0: \n",
    "        return 'No'\n",
    "    else: \n",
    "        return 'Yes'"
   ]
  },
  {
   "cell_type": "code",
   "execution_count": 41,
   "metadata": {},
   "outputs": [],
   "source": [
    "# convert the default column to a int type\n",
    "df_for_visualization = df.withColumn('DEFAULT', col('DEFAULT').cast(IntegerType()))\n",
    "\n",
    "# create the udf \n",
    "default_udf = udf(convert_default, StringType())\n",
    "\n",
    "# create a new column in the dataframe that contains a column called defaulted\n",
    "df_for_visualization = df_for_visualization.withColumn('Defaulted', default_udf('DEFAULT'))"
   ]
  },
  {
   "cell_type": "markdown",
   "metadata": {},
   "source": [
    "### LIMIT_BAL"
   ]
  },
  {
   "cell_type": "code",
   "execution_count": 42,
   "metadata": {},
   "outputs": [
    {
     "data": {
      "text/plain": [
       "81"
      ]
     },
     "execution_count": 42,
     "metadata": {},
     "output_type": "execute_result"
    }
   ],
   "source": [
    "# how many unique values are in limit_bal\n",
    "df_for_visualization.select('LIMIT_BAL').distinct().count()"
   ]
  },
  {
   "cell_type": "code",
   "execution_count": 43,
   "metadata": {},
   "outputs": [
    {
     "name": "stdout",
     "output_type": "stream",
     "text": [
      "+--------------+\n",
      "|min(LIMIT_BAL)|\n",
      "+--------------+\n",
      "|         10000|\n",
      "+--------------+\n",
      "\n"
     ]
    }
   ],
   "source": [
    "# what is the min value in limit bal\n",
    "df_for_visualization.agg({'LIMIT_BAL': 'min'}).show()"
   ]
  },
  {
   "cell_type": "code",
   "execution_count": 44,
   "metadata": {},
   "outputs": [
    {
     "name": "stdout",
     "output_type": "stream",
     "text": [
      "+--------------+\n",
      "|max(LIMIT_BAL)|\n",
      "+--------------+\n",
      "|       1000000|\n",
      "+--------------+\n",
      "\n"
     ]
    }
   ],
   "source": [
    "# what is the min value in limit bal\n",
    "df_for_visualization.agg({'LIMIT_BAL': 'max'}).show()"
   ]
  },
  {
   "cell_type": "code",
   "execution_count": 45,
   "metadata": {},
   "outputs": [],
   "source": [
    "def create_limit_bal_bins(limit_bal):\n",
    "    if (limit_bal >= 0) & (limit_bal < 100000):\n",
    "        return '[0 - 100,000)'\n",
    "    elif (limit_bal >= 100000) & (limit_bal < 200000):\n",
    "        return '[100,000 - 200,000)'\n",
    "    elif (limit_bal >= 200000) & (limit_bal < 300000):\n",
    "        return '[200,000 - 300,000)'\n",
    "    elif (limit_bal >= 300000) & (limit_bal < 400000):\n",
    "        return '[300,000 - 400,000)'\n",
    "    elif (limit_bal >= 400000) & (limit_bal < 500000):\n",
    "        return '[400,000 - 500,000)'\n",
    "    elif (limit_bal >= 500000) & (limit_bal < 600000):\n",
    "        return '[500,000 - 600,000)'\n",
    "    elif (limit_bal >= 600000) & (limit_bal < 700000):\n",
    "        return '[600,000 - 700,000)'\n",
    "    elif (limit_bal >= 700000) & (limit_bal < 800000):\n",
    "        return '[600,000 - 800,000)'\n",
    "    elif (limit_bal >= 800000) & (limit_bal < 900000):\n",
    "        return '[800,000 - 900,000)'\n",
    "    else:\n",
    "        return '900,000+'"
   ]
  },
  {
   "cell_type": "code",
   "execution_count": 46,
   "metadata": {},
   "outputs": [],
   "source": [
    "bucket_udf = udf(create_limit_bal_bins, StringType())\n",
    "df_for_visualization = df_for_visualization.withColumn('bucketed_limit_bal', bucket_udf('LIMIT_BAL'))"
   ]
  },
  {
   "cell_type": "code",
   "execution_count": 47,
   "metadata": {},
   "outputs": [
    {
     "name": "stdout",
     "output_type": "stream",
     "text": [
      "+---------+-------------------+\n",
      "|LIMIT_BAL| bucketed_limit_bal|\n",
      "+---------+-------------------+\n",
      "|   350000|[300,000 - 400,000)|\n",
      "|   150000|[100,000 - 200,000)|\n",
      "|    80000|      [0 - 100,000)|\n",
      "|   230000|[200,000 - 300,000)|\n",
      "|   440000|[400,000 - 500,000)|\n",
      "+---------+-------------------+\n",
      "only showing top 5 rows\n",
      "\n"
     ]
    }
   ],
   "source": [
    "df_for_visualization.select('LIMIT_BAL','bucketed_limit_bal').show(5)"
   ]
  },
  {
   "cell_type": "markdown",
   "metadata": {},
   "source": [
    "<br /> \n",
    "\n",
    "### SEX"
   ]
  },
  {
   "cell_type": "code",
   "execution_count": 48,
   "metadata": {},
   "outputs": [],
   "source": [
    "# function changes 0 to Male and 1 to Female \n",
    "def convert_sex(sex):\n",
    "    if sex == 0: \n",
    "        return 'Male'\n",
    "    else:\n",
    "        return 'Female'"
   ]
  },
  {
   "cell_type": "code",
   "execution_count": 49,
   "metadata": {},
   "outputs": [
    {
     "name": "stdout",
     "output_type": "stream",
     "text": [
      "+---+----------+\n",
      "|SEX|Sex_string|\n",
      "+---+----------+\n",
      "|  0|      Male|\n",
      "|  1|    Female|\n",
      "|  1|    Female|\n",
      "|  1|    Female|\n",
      "|  1|    Female|\n",
      "|  1|    Female|\n",
      "|  1|    Female|\n",
      "|  1|    Female|\n",
      "|  1|    Female|\n",
      "|  0|      Male|\n",
      "+---+----------+\n",
      "only showing top 10 rows\n",
      "\n"
     ]
    }
   ],
   "source": [
    "# create the udf \n",
    "sex_udf = udf(convert_sex, StringType())\n",
    "\n",
    "# create a column in the df_for_visualization that will contain the sex in string form\n",
    "df_for_visualization = df_for_visualization.withColumn('Sex_string', sex_udf('SEX'))\n",
    "\n",
    "# show me the first 5 values to see if the column was created and it contains the correct info\n",
    "df_for_visualization.select('SEX','Sex_string').show(10)"
   ]
  },
  {
   "cell_type": "markdown",
   "metadata": {},
   "source": [
    "<br /> \n",
    "\n",
    "### EDUCATION"
   ]
  },
  {
   "cell_type": "code",
   "execution_count": 50,
   "metadata": {},
   "outputs": [],
   "source": [
    "# convert the values from 1,2,3,4,5,6 to what they represents\n",
    "def convert_education(education):\n",
    "    if education == 1: \n",
    "        return 'Grad School'\n",
    "    elif education == 2: \n",
    "        return 'University'\n",
    "    elif education == 3: \n",
    "        return 'High School'\n",
    "    elif education == 4: \n",
    "        return 'Other'\n",
    "    elif education == 5: \n",
    "        return 'Unknown'\n",
    "    else:\n",
    "        return 'Unknown'"
   ]
  },
  {
   "cell_type": "code",
   "execution_count": 51,
   "metadata": {},
   "outputs": [],
   "source": [
    "# create the udf\n",
    "education_udf = udf(convert_education, StringType())\n",
    "\n",
    "# create a column that contains the info of the education status\n",
    "df_for_visualization = df_for_visualization.withColumn('Education_status', education_udf('EDUCATION'))"
   ]
  },
  {
   "cell_type": "code",
   "execution_count": 52,
   "metadata": {},
   "outputs": [
    {
     "name": "stdout",
     "output_type": "stream",
     "text": [
      "+---------+----------------+\n",
      "|EDUCATION|Education_status|\n",
      "+---------+----------------+\n",
      "|        3|     High School|\n",
      "|        2|      University|\n",
      "|        2|      University|\n",
      "|        1|     Grad School|\n",
      "|        1|     Grad School|\n",
      "+---------+----------------+\n",
      "only showing top 5 rows\n",
      "\n"
     ]
    }
   ],
   "source": [
    "df_for_visualization.select('EDUCATION','Education_status').show(5)"
   ]
  },
  {
   "cell_type": "markdown",
   "metadata": {},
   "source": [
    "<br /> \n",
    "\n",
    "### MARRIAGE"
   ]
  },
  {
   "cell_type": "code",
   "execution_count": 53,
   "metadata": {},
   "outputs": [],
   "source": [
    "# convert 1,2,3 to married, single, other \n",
    "def convert_marriage(marriage):\n",
    "    if marriage == 1:\n",
    "        return 'Married'\n",
    "    elif marriage == 2:\n",
    "        return 'Single'\n",
    "    else:\n",
    "        return 'Other'"
   ]
  },
  {
   "cell_type": "code",
   "execution_count": 54,
   "metadata": {},
   "outputs": [],
   "source": [
    "# create the udf \n",
    "marriage_udf = udf(convert_marriage, StringType())\n",
    "\n",
    "# create a column that contained the marriage status as a string \n",
    "df_for_visualization = df_for_visualization.withColumn('Marriage_status', marriage_udf('MARRIAGE'))"
   ]
  },
  {
   "cell_type": "code",
   "execution_count": 55,
   "metadata": {},
   "outputs": [
    {
     "name": "stdout",
     "output_type": "stream",
     "text": [
      "+--------+---------------+\n",
      "|MARRIAGE|Marriage_status|\n",
      "+--------+---------------+\n",
      "|       1|        Married|\n",
      "|       1|        Married|\n",
      "|       2|         Single|\n",
      "|       2|         Single|\n",
      "|       2|         Single|\n",
      "+--------+---------------+\n",
      "only showing top 5 rows\n",
      "\n"
     ]
    }
   ],
   "source": [
    "df_for_visualization.select('MARRIAGE', 'Marriage_status').show(5)"
   ]
  },
  {
   "cell_type": "markdown",
   "metadata": {},
   "source": [
    "<br /> \n",
    "\n",
    "### AGE"
   ]
  },
  {
   "cell_type": "code",
   "execution_count": 56,
   "metadata": {},
   "outputs": [
    {
     "name": "stdout",
     "output_type": "stream",
     "text": [
      "+--------+--------+\n",
      "|min(AGE)|max(AGE)|\n",
      "+--------+--------+\n",
      "|      21|      79|\n",
      "+--------+--------+\n",
      "\n"
     ]
    }
   ],
   "source": [
    "# viewing the min and max age\n",
    "df_for_visualization.select(min('AGE'), max('AGE')).show()"
   ]
  },
  {
   "cell_type": "code",
   "execution_count": 57,
   "metadata": {},
   "outputs": [],
   "source": [
    "# creating a function that bins the age\n",
    "def create_age_bin(age):\n",
    "    if (age > 20) & (age <= 30):\n",
    "        return '21-30'\n",
    "    elif (age > 30) & (age <= 40):\n",
    "        return '31-40'\n",
    "    elif (age > 40) & (age <= 50):\n",
    "        return '41-50'\n",
    "    elif (age > 50) & (age <= 60):\n",
    "        return '51-60'\n",
    "    elif (age > 60) & (age <= 70):\n",
    "        return '61-70'\n",
    "    elif (age > 70) & (age <= 80):\n",
    "        return '71-80'"
   ]
  },
  {
   "cell_type": "code",
   "execution_count": 58,
   "metadata": {},
   "outputs": [],
   "source": [
    "# create the udf \n",
    "age_udf = udf(create_age_bin, StringType())\n",
    "\n",
    "# create a column that contains the age bins\n",
    "df_for_visualization = df_for_visualization.withColumn('Age_bin', age_udf('AGE'))"
   ]
  },
  {
   "cell_type": "code",
   "execution_count": 59,
   "metadata": {},
   "outputs": [
    {
     "name": "stdout",
     "output_type": "stream",
     "text": [
      "+---+-------+\n",
      "|AGE|Age_bin|\n",
      "+---+-------+\n",
      "| 44|  41-50|\n",
      "| 25|  21-30|\n",
      "| 43|  41-50|\n",
      "| 28|  21-30|\n",
      "| 35|  31-40|\n",
      "+---+-------+\n",
      "only showing top 5 rows\n",
      "\n"
     ]
    }
   ],
   "source": [
    "df_for_visualization.select('AGE', 'Age_bin').show(5)"
   ]
  },
  {
   "cell_type": "markdown",
   "metadata": {},
   "source": [
    "<br /> \n",
    "\n",
    "### PAY_1 - PAY_6"
   ]
  },
  {
   "cell_type": "code",
   "execution_count": 60,
   "metadata": {},
   "outputs": [],
   "source": [
    "# convert the values \n",
    "def convert_pay(pay):\n",
    "    result = 'delayed '\n",
    "    m = ' months'\n",
    "    if pay == -2:\n",
    "        return 'No Consumption'\n",
    "    elif pay == -1:\n",
    "        return 'Pay duly'\n",
    "    elif pay == 0:\n",
    "        return 'Revolving credit'\n",
    "    elif (pay >= 1) & (pay <=9):\n",
    "        result += str(pay) + m\n",
    "        if pay == 9:\n",
    "            result += ' and above'\n",
    "        return result"
   ]
  },
  {
   "cell_type": "code",
   "execution_count": 61,
   "metadata": {},
   "outputs": [],
   "source": [
    "# create the udf\n",
    "pay_udf = udf(convert_pay, StringType())\n",
    "\n",
    "# creating a column that contains that conversion of the pay\n",
    "df_for_visualization = df_for_visualization.withColumn('pay1_status', pay_udf('PAY_1'))\n",
    "df_for_visualization = df_for_visualization.withColumn('pay2_status', pay_udf('PAY_2'))\n",
    "df_for_visualization = df_for_visualization.withColumn('pay3_status', pay_udf('PAY_3'))\n",
    "df_for_visualization = df_for_visualization.withColumn('pay4_status', pay_udf('PAY_4'))\n",
    "df_for_visualization = df_for_visualization.withColumn('pay5_status', pay_udf('PAY_5'))\n",
    "df_for_visualization = df_for_visualization.withColumn('pay6_status', pay_udf('PAY_6'))"
   ]
  },
  {
   "cell_type": "code",
   "execution_count": 62,
   "metadata": {},
   "outputs": [
    {
     "name": "stdout",
     "output_type": "stream",
     "text": [
      "+----------------+-----+\n",
      "|     pay1_status|PAY_1|\n",
      "+----------------+-----+\n",
      "|        Pay duly|   -1|\n",
      "|        Pay duly|   -1|\n",
      "|Revolving credit|    0|\n",
      "|Revolving credit|    0|\n",
      "|Revolving credit|    0|\n",
      "+----------------+-----+\n",
      "only showing top 5 rows\n",
      "\n"
     ]
    }
   ],
   "source": [
    "df_for_visualization.select('pay1_status', 'PAY_1').show(5)"
   ]
  },
  {
   "cell_type": "code",
   "execution_count": 63,
   "metadata": {},
   "outputs": [
    {
     "name": "stdout",
     "output_type": "stream",
     "text": [
      "+----------------+\n",
      "|pay1_status     |\n",
      "+----------------+\n",
      "|delayed 6 months|\n",
      "|delayed 6 months|\n",
      "|delayed 6 months|\n",
      "|delayed 6 months|\n",
      "|delayed 6 months|\n",
      "+----------------+\n",
      "only showing top 5 rows\n",
      "\n"
     ]
    }
   ],
   "source": [
    "# checking to make sure the values from 1-9 converted correctly \n",
    "df_for_visualization.select('pay1_status').filter(col('PAY_1') == 6).show(5,False)"
   ]
  },
  {
   "cell_type": "markdown",
   "metadata": {},
   "source": [
    "<br /> \n",
    "\n",
    "### BILL_AMT1 - BILL_AMT6"
   ]
  },
  {
   "cell_type": "code",
   "execution_count": 64,
   "metadata": {},
   "outputs": [
    {
     "name": "stdout",
     "output_type": "stream",
     "text": [
      "+--------------+--------------+--------------+--------------+--------------+--------------+\n",
      "|min(BILL_AMT1)|min(BILL_AMT2)|min(BILL_AMT3)|min(BILL_AMT4)|min(BILL_AMT5)|min(BILL_AMT6)|\n",
      "+--------------+--------------+--------------+--------------+--------------+--------------+\n",
      "|       -165580|        -69777|       -157264|       -170000|        -81334|       -339603|\n",
      "+--------------+--------------+--------------+--------------+--------------+--------------+\n",
      "\n"
     ]
    }
   ],
   "source": [
    "# viewing the min\n",
    "df_for_visualization.select(*(min(column) for column in ['BILL_AMT' + str(i) for i in range(1,7,1)])).show()"
   ]
  },
  {
   "cell_type": "code",
   "execution_count": 65,
   "metadata": {},
   "outputs": [
    {
     "name": "stdout",
     "output_type": "stream",
     "text": [
      "+--------------+--------------+--------------+--------------+--------------+--------------+\n",
      "|max(BILL_AMT1)|max(BILL_AMT2)|max(BILL_AMT3)|max(BILL_AMT4)|max(BILL_AMT5)|max(BILL_AMT6)|\n",
      "+--------------+--------------+--------------+--------------+--------------+--------------+\n",
      "|        964511|        983931|       1664089|        891586|        927171|        961664|\n",
      "+--------------+--------------+--------------+--------------+--------------+--------------+\n",
      "\n"
     ]
    }
   ],
   "source": [
    "# viewing the max\n",
    "df_for_visualization.select(*(max(column) for column in ['BILL_AMT' + str(i) for i in range(1,7,1)])).show()"
   ]
  },
  {
   "cell_type": "code",
   "execution_count": 66,
   "metadata": {},
   "outputs": [],
   "source": [
    "def convert_bill_amt(amount):\n",
    "    if amount < 0: \n",
    "        return 'Less Than 0'\n",
    "    elif (amount >= 0) & (amount < 100000):\n",
    "        return '[0 - 100,000)'\n",
    "    elif (amount >= 100000) & (amount < 200000):\n",
    "        return '[100,000 - 200,000)'\n",
    "    elif (amount >= 200000) & (amount < 300000):\n",
    "        return '[200,000 - 300,000)'\n",
    "    elif (amount >= 300000) & (amount < 400000):\n",
    "        return '[300,000 - 400,000)'\n",
    "    elif (amount >= 400000) & (amount < 500000):\n",
    "        return '[400,000 - 500,000)'\n",
    "    elif (amount >= 500000) & (amount < 600000):\n",
    "        return '[500,000 - 600,000)'\n",
    "    elif (amount >= 600000) & (amount < 700000):\n",
    "        return '[600,000 - 700,000)'\n",
    "    elif (amount >= 700000) & (amount < 800000):\n",
    "        return '[700,000 - 800,000)'\n",
    "    elif (amount >= 800000) & (amount < 900000):\n",
    "        return '[800,000 - 900,000)'\n",
    "    elif (amount >= 900000) & (amount < 1000000):\n",
    "        return '[900,000 - 1,000,000)'\n",
    "    else:\n",
    "        return '1,000,000+'"
   ]
  },
  {
   "cell_type": "code",
   "execution_count": 67,
   "metadata": {},
   "outputs": [],
   "source": [
    "# create udf \n",
    "bill_udf = udf(convert_bill_amt, StringType())\n",
    "\n",
    "# create the column that will contain this info\n",
    "df_for_visualization = df_for_visualization.withColumn('bill1_status', bill_udf('BILL_AMT1'))\n",
    "df_for_visualization = df_for_visualization.withColumn('bill2_status', bill_udf('BILL_AMT2'))\n",
    "df_for_visualization = df_for_visualization.withColumn('bill3_status', bill_udf('BILL_AMT3'))\n",
    "df_for_visualization = df_for_visualization.withColumn('bill4_status', bill_udf('BILL_AMT4'))\n",
    "df_for_visualization = df_for_visualization.withColumn('bill5_status', bill_udf('BILL_AMT5'))\n",
    "df_for_visualization = df_for_visualization.withColumn('bill6_status', bill_udf('BILL_AMT6'))"
   ]
  },
  {
   "cell_type": "code",
   "execution_count": 68,
   "metadata": {},
   "outputs": [
    {
     "name": "stdout",
     "output_type": "stream",
     "text": [
      "+---------+-------------------+\n",
      "|BILL_AMT1|       bill1_status|\n",
      "+---------+-------------------+\n",
      "|     3265|      [0 - 100,000)|\n",
      "|     6156|      [0 - 100,000)|\n",
      "|    77057|      [0 - 100,000)|\n",
      "|    30141|      [0 - 100,000)|\n",
      "|   330759|[300,000 - 400,000)|\n",
      "+---------+-------------------+\n",
      "only showing top 5 rows\n",
      "\n"
     ]
    }
   ],
   "source": [
    "df_for_visualization.select('BILL_AMT1', 'bill1_status').show(5)"
   ]
  },
  {
   "cell_type": "markdown",
   "metadata": {},
   "source": [
    "<br /> \n",
    "\n",
    "### PAY_AMT1 - PAY_AMT6"
   ]
  },
  {
   "cell_type": "code",
   "execution_count": 69,
   "metadata": {},
   "outputs": [
    {
     "name": "stdout",
     "output_type": "stream",
     "text": [
      "+-------------+-------------+-------------+-------------+-------------+-------------+\n",
      "|min(PAY_AMT1)|min(PAY_AMT2)|min(PAY_AMT3)|min(PAY_AMT4)|min(PAY_AMT5)|min(PAY_AMT6)|\n",
      "+-------------+-------------+-------------+-------------+-------------+-------------+\n",
      "|            0|            0|            0|            0|            0|            0|\n",
      "+-------------+-------------+-------------+-------------+-------------+-------------+\n",
      "\n"
     ]
    }
   ],
   "source": [
    "# min values of all the pay_amt\n",
    "df_for_visualization.select(*(min(column) for column in ['PAY_AMT' + str(i) for i in range(1,7,1)])).show()"
   ]
  },
  {
   "cell_type": "code",
   "execution_count": 70,
   "metadata": {},
   "outputs": [
    {
     "name": "stdout",
     "output_type": "stream",
     "text": [
      "+-------------+-------------+-------------+-------------+-------------+-------------+\n",
      "|max(PAY_AMT1)|max(PAY_AMT2)|max(PAY_AMT3)|max(PAY_AMT4)|max(PAY_AMT5)|max(PAY_AMT6)|\n",
      "+-------------+-------------+-------------+-------------+-------------+-------------+\n",
      "|       873552|      1684259|       896040|       621000|       426529|       528666|\n",
      "+-------------+-------------+-------------+-------------+-------------+-------------+\n",
      "\n"
     ]
    }
   ],
   "source": [
    "# max values for all the pay_amt\n",
    "df_for_visualization.select(*(max(column) for column in ['PAY_AMT' + str(i) for i in range(1,7,1)])).show()"
   ]
  },
  {
   "cell_type": "code",
   "execution_count": 71,
   "metadata": {},
   "outputs": [],
   "source": [
    "def convert_pay_amt(amount):\n",
    "    if (amount >= 0) & (amount < 100000):\n",
    "        return '[0 - 100,000)'\n",
    "    elif (amount >= 100000) & (amount < 200000):\n",
    "        return '[100,000 - 200,000)'\n",
    "    elif (amount >= 200000) & (amount < 300000):\n",
    "        return '[200,000 - 300,000)'\n",
    "    elif (amount >= 300000) & (amount < 400000):\n",
    "        return '[300,000 - 400,000)'\n",
    "    elif (amount >= 400000) & (amount < 500000):\n",
    "        return '[400,000 - 500,000)'\n",
    "    elif (amount >= 500000) & (amount < 600000):\n",
    "        return '[500,000 - 600,000)'\n",
    "    elif (amount >= 600000) & (amount < 700000):\n",
    "        return '[600,000 - 700,000)'\n",
    "    elif (amount >= 700000) & (amount < 800000):\n",
    "        return '[700,000 - 800,000)'\n",
    "    elif (amount >= 800000) & (amount < 900000):\n",
    "        return '[800,000 - 900,000)'\n",
    "    elif (amount >= 900000) & (amount < 1000000):\n",
    "        return '[900,000 - 1,000,000)'\n",
    "    else:\n",
    "        return '1,000,000+'"
   ]
  },
  {
   "cell_type": "code",
   "execution_count": 72,
   "metadata": {},
   "outputs": [],
   "source": [
    "# create the udf\n",
    "pay_udf = udf(convert_pay_amt, StringType())\n",
    "\n",
    "# create the column that contains the info \n",
    "df_for_visualization = df_for_visualization.withColumn('pay1_amt_status', pay_udf('PAY_AMT1'))\n",
    "df_for_visualization = df_for_visualization.withColumn('pay2_amt_status', pay_udf('PAY_AMT2'))\n",
    "df_for_visualization = df_for_visualization.withColumn('pay3_amt_status', pay_udf('PAY_AMT3'))\n",
    "df_for_visualization = df_for_visualization.withColumn('pay4_amt_status', pay_udf('PAY_AMT4'))\n",
    "df_for_visualization = df_for_visualization.withColumn('pay5_amt_status', pay_udf('PAY_AMT5'))\n",
    "df_for_visualization = df_for_visualization.withColumn('pay6_amt_status', pay_udf('PAY_AMT6'))"
   ]
  },
  {
   "cell_type": "code",
   "execution_count": 73,
   "metadata": {},
   "outputs": [
    {
     "name": "stdout",
     "output_type": "stream",
     "text": [
      "+--------+-------------------+\n",
      "|PAY_AMT1|    pay1_amt_status|\n",
      "+--------+-------------------+\n",
      "|    2686|      [0 - 100,000)|\n",
      "|       0|      [0 - 100,000)|\n",
      "|    3177|      [0 - 100,000)|\n",
      "|  120093|[100,000 - 200,000)|\n",
      "|   13100|      [0 - 100,000)|\n",
      "+--------+-------------------+\n",
      "only showing top 5 rows\n",
      "\n"
     ]
    }
   ],
   "source": [
    "df_for_visualization.select('PAY_AMT1', 'pay1_amt_status').show(5)"
   ]
  },
  {
   "cell_type": "markdown",
   "metadata": {},
   "source": [
    "### CREATE PLOTS"
   ]
  },
  {
   "cell_type": "code",
   "execution_count": 74,
   "metadata": {},
   "outputs": [],
   "source": [
    "## converting pyspark to pandas \n",
    "pandas_df = df_for_visualization.toPandas()"
   ]
  },
  {
   "cell_type": "markdown",
   "metadata": {},
   "source": [
    "<br /> \n",
    "\n",
    "#### LIMIT_BAL"
   ]
  },
  {
   "cell_type": "code",
   "execution_count": 75,
   "metadata": {},
   "outputs": [
    {
     "data": {
      "image/png": "[encoded data removed]",
      "text/plain": [
       "<Figure size 1440x576 with 1 Axes>"
      ]
     },
     "metadata": {},
     "output_type": "display_data"
    }
   ],
   "source": [
    "x = 'bucketed_limit_bal'\n",
    "title = 'Based On Their Limit Balance How Many People Defaulted'\n",
    "xlab = 'Limit Balance'\n",
    "create_plot(pandas_df,x, title, xlab, figsize = (20,8))"
   ]
  },
  {
   "cell_type": "markdown",
   "metadata": {},
   "source": [
    "We can see that most of the people in this dataset fall inbetween 100,000 - 400,000 for their limit balance. Also we can see that most of the people didn't default on their payments which makes sense. "
   ]
  },
  {
   "cell_type": "markdown",
   "metadata": {},
   "source": [
    "<br /> \n",
    "\n",
    "#### SEX"
   ]
  },
  {
   "cell_type": "code",
   "execution_count": 76,
   "metadata": {},
   "outputs": [
    {
     "data": {
      "image/png": "[encoded data removed]",
      "text/plain": [
       "<Figure size 864x576 with 1 Axes>"
      ]
     },
     "metadata": {},
     "output_type": "display_data"
    }
   ],
   "source": [
    "x = 'Sex_string'\n",
    "title = 'Based On Their Sex How Many People Defaulted'\n",
    "xlab = 'Sex'\n",
    "hue = 'Defaulted'\n",
    "create_plot(pandas_df,x, title, xlab)"
   ]
  },
  {
   "cell_type": "markdown",
   "metadata": {},
   "source": [
    "We can see that this dataset is made up of more females then male."
   ]
  },
  {
   "cell_type": "markdown",
   "metadata": {},
   "source": [
    "<br /> \n",
    "\n",
    "#### EDUCATION"
   ]
  },
  {
   "cell_type": "code",
   "execution_count": 77,
   "metadata": {},
   "outputs": [
    {
     "data": {
      "image/png": "[encoded data removed]",
      "text/plain": [
       "<Figure size 864x576 with 1 Axes>"
      ]
     },
     "metadata": {},
     "output_type": "display_data"
    }
   ],
   "source": [
    "x = 'Education_status'\n",
    "title = 'Based On Their Education How Many People Defaulted'\n",
    "xlab = 'Education'\n",
    "hue = 'Defaulted'\n",
    "create_plot(pandas_df,x, title, xlab) "
   ]
  },
  {
   "cell_type": "markdown",
   "metadata": {},
   "source": [
    "Most of the people in this dataset fall in the high school grad school education level. It seems that most of the people that have a credit card in this dataset have been to a University."
   ]
  },
  {
   "cell_type": "markdown",
   "metadata": {},
   "source": [
    "<br />\n",
    "\n",
    "#### MARRIAGE"
   ]
  },
  {
   "cell_type": "code",
   "execution_count": 78,
   "metadata": {},
   "outputs": [
    {
     "data": {
      "image/png": "[encoded data removed]",
      "text/plain": [
       "<Figure size 864x576 with 1 Axes>"
      ]
     },
     "metadata": {},
     "output_type": "display_data"
    }
   ],
   "source": [
    "x = 'Marriage_status'\n",
    "title = 'Based On Their Marriage How Many People Defaulted'\n",
    "xlab = 'Marriage'\n",
    "create_plot(pandas_df,x, title, xlab, hue = hue) "
   ]
  },
  {
   "cell_type": "markdown",
   "metadata": {},
   "source": [
    "Most of the people in this dataset are either married or single. It also seems that the number of people who defaulted for the marriage and single bins are very close to one another even those their are more single people in this dataset."
   ]
  },
  {
   "cell_type": "markdown",
   "metadata": {},
   "source": [
    "<br />\n",
    "\n",
    "#### AGE"
   ]
  },
  {
   "cell_type": "code",
   "execution_count": 79,
   "metadata": {},
   "outputs": [
    {
     "data": {
      "image/png": "[encoded data removed]",
      "text/plain": [
       "<Figure size 864x576 with 1 Axes>"
      ]
     },
     "metadata": {},
     "output_type": "display_data"
    }
   ],
   "source": [
    "x = 'Age_bin'\n",
    "title = 'Based On Their Age How Many People Defaulted'\n",
    "xlab = 'Age Group'\n",
    "create_plot(pandas_df,x, title, xlab) "
   ]
  },
  {
   "cell_type": "markdown",
   "metadata": {},
   "source": [
    "Most of the people in this dataset fall in the age range of 21 till 50. Also it seems like between the 21-30 and 30-40 they have the same number of people who didn't default but 21-30 had more people who did default"
   ]
  },
  {
   "cell_type": "markdown",
   "metadata": {},
   "source": [
    "<br />\n",
    "\n",
    "#### PAY_1 - PAY_6"
   ]
  },
  {
   "cell_type": "code",
   "execution_count": 80,
   "metadata": {},
   "outputs": [
    {
     "data": {
      "image/png": "[encoded data removed]",
      "text/plain": [
       "<Figure size 1296x1296 with 6 Axes>"
      ]
     },
     "metadata": {},
     "output_type": "display_data"
    }
   ],
   "source": [
    "x = ['pay' + str(i)+'_status' for i in range(1,7,1)]\n",
    "title = 'Based On Their PAY How Many People Defaulted'\n",
    "create_subplots(pandas_df, x, title, figsize = (18,18))"
   ]
  },
  {
   "cell_type": "markdown",
   "metadata": {},
   "source": [
    "Most of the people have revolving credit in all of the repayments months. Also most people delay 2 months for their repayment."
   ]
  },
  {
   "cell_type": "markdown",
   "metadata": {},
   "source": [
    "<br />\n",
    "\n",
    "#### BILL_AMT1 - BILL_AMT6"
   ]
  },
  {
   "cell_type": "code",
   "execution_count": 81,
   "metadata": {},
   "outputs": [
    {
     "data": {
      "image/png": "[encoded data removed]",
      "text/plain": [
       "<Figure size 1296x1296 with 6 Axes>"
      ]
     },
     "metadata": {},
     "output_type": "display_data"
    }
   ],
   "source": [
    "x = ['bill' + str(i)+'_status' for i in range(1,7,1)]\n",
    "title = 'Based On Their PAY How Many People Defaulted'\n",
    "create_subplots(pandas_df, x, title, figsize = (18,18))"
   ]
  },
  {
   "cell_type": "markdown",
   "metadata": {},
   "source": [
    "Most of the bill statements for all of the months fall under 0-100,000 dollars which makes sense. But their are cases where some peoples bill statements are in the 100,000-200,000 dollars area."
   ]
  },
  {
   "cell_type": "markdown",
   "metadata": {},
   "source": [
    "<br />\n",
    "\n",
    "#### PAY_AMT1 - PAY_AMT6"
   ]
  },
  {
   "cell_type": "code",
   "execution_count": 82,
   "metadata": {},
   "outputs": [
    {
     "data": {
      "image/png": "[encoded data removed]",
      "text/plain": [
       "<Figure size 1296x1296 with 6 Axes>"
      ]
     },
     "metadata": {},
     "output_type": "display_data"
    }
   ],
   "source": [
    "x = ['pay' + str(i)+'_amt_status' for i in range(1,7,1)]\n",
    "title = 'Based On Their PAY How Many People Defaulted'\n",
    "create_subplots(pandas_df, x, title, figsize = (18,18))"
   ]
  },
  {
   "cell_type": "markdown",
   "metadata": {},
   "source": [
    "For almost all the months the previous payment amount falls inbetween 0-100,000 dollars only. But in April, 2005 and July, 2005 some people did have a previous payment amount of 100,000-200,000 dollars"
   ]
  },
  {
   "cell_type": "markdown",
   "metadata": {},
   "source": [
    "<br /> \n",
    "\n",
    "\n",
    "## CLASSIFICATION "
   ]
  },
  {
   "cell_type": "code",
   "execution_count": 83,
   "metadata": {},
   "outputs": [
    {
     "name": "stdout",
     "output_type": "stream",
     "text": [
      "root\n",
      " |-- LIMIT_BAL: integer (nullable = true)\n",
      " |-- SEX: integer (nullable = false)\n",
      " |-- EDUCATION: integer (nullable = true)\n",
      " |-- MARRIAGE: integer (nullable = true)\n",
      " |-- AGE: integer (nullable = true)\n",
      " |-- PAY_1: integer (nullable = true)\n",
      " |-- PAY_2: integer (nullable = true)\n",
      " |-- PAY_3: integer (nullable = true)\n",
      " |-- PAY_4: integer (nullable = true)\n",
      " |-- PAY_5: integer (nullable = true)\n",
      " |-- PAY_6: integer (nullable = true)\n",
      " |-- BILL_AMT1: integer (nullable = true)\n",
      " |-- BILL_AMT2: integer (nullable = true)\n",
      " |-- BILL_AMT3: integer (nullable = true)\n",
      " |-- BILL_AMT4: integer (nullable = true)\n",
      " |-- BILL_AMT5: integer (nullable = true)\n",
      " |-- BILL_AMT6: integer (nullable = true)\n",
      " |-- PAY_AMT1: integer (nullable = true)\n",
      " |-- PAY_AMT2: integer (nullable = true)\n",
      " |-- PAY_AMT3: integer (nullable = true)\n",
      " |-- PAY_AMT4: integer (nullable = true)\n",
      " |-- PAY_AMT5: integer (nullable = true)\n",
      " |-- PAY_AMT6: integer (nullable = true)\n",
      " |-- DEFAULT: integer (nullable = true)\n",
      "\n"
     ]
    }
   ],
   "source": [
    "df.printSchema()"
   ]
  },
  {
   "cell_type": "code",
   "execution_count": 84,
   "metadata": {},
   "outputs": [],
   "source": [
    "# rename the DEFAULT column to label \n",
    "df = df.withColumnRenamed('DEFAULT', 'label')"
   ]
  },
  {
   "cell_type": "markdown",
   "metadata": {},
   "source": [
    "<br /> \n",
    "\n",
    "### CREATING TRAINING AND TESTING SET"
   ]
  },
  {
   "cell_type": "code",
   "execution_count": 85,
   "metadata": {},
   "outputs": [],
   "source": [
    "(train_data, test_data) = df.randomSplit([0.7,0.3], 24)"
   ]
  },
  {
   "cell_type": "code",
   "execution_count": 86,
   "metadata": {},
   "outputs": [
    {
     "data": {
      "text/plain": [
       "20830"
      ]
     },
     "execution_count": 86,
     "metadata": {},
     "output_type": "execute_result"
    }
   ],
   "source": [
    "train_data.count()"
   ]
  },
  {
   "cell_type": "code",
   "execution_count": 87,
   "metadata": {},
   "outputs": [
    {
     "data": {
      "text/plain": [
       "9067"
      ]
     },
     "execution_count": 87,
     "metadata": {},
     "output_type": "execute_result"
    }
   ],
   "source": [
    "test_data.count()"
   ]
  },
  {
   "cell_type": "markdown",
   "metadata": {},
   "source": [
    "<br /> \n",
    "\n",
    "### PIPELINE STAGE 1: VECTOR ASSEMBLER"
   ]
  },
  {
   "cell_type": "code",
   "execution_count": 88,
   "metadata": {},
   "outputs": [],
   "source": [
    "# importing required library\n",
    "from pyspark.ml.feature import VectorAssembler"
   ]
  },
  {
   "cell_type": "code",
   "execution_count": 89,
   "metadata": {},
   "outputs": [],
   "source": [
    "# will hold the stages of the pipeline\n",
    "stages = []"
   ]
  },
  {
   "cell_type": "code",
   "execution_count": 90,
   "metadata": {},
   "outputs": [],
   "source": [
    "# creating a features list that only contains the features and not the label\n",
    "featuresCol = df.columns\n",
    "featuresCol.remove('label')"
   ]
  },
  {
   "cell_type": "code",
   "execution_count": 91,
   "metadata": {},
   "outputs": [
    {
     "data": {
      "text/plain": [
       "['LIMIT_BAL',\n",
       " 'SEX',\n",
       " 'EDUCATION',\n",
       " 'MARRIAGE',\n",
       " 'AGE',\n",
       " 'PAY_1',\n",
       " 'PAY_2',\n",
       " 'PAY_3',\n",
       " 'PAY_4',\n",
       " 'PAY_5',\n",
       " 'PAY_6',\n",
       " 'BILL_AMT1',\n",
       " 'BILL_AMT2',\n",
       " 'BILL_AMT3',\n",
       " 'BILL_AMT4',\n",
       " 'BILL_AMT5',\n",
       " 'BILL_AMT6',\n",
       " 'PAY_AMT1',\n",
       " 'PAY_AMT2',\n",
       " 'PAY_AMT3',\n",
       " 'PAY_AMT4',\n",
       " 'PAY_AMT5',\n",
       " 'PAY_AMT6']"
      ]
     },
     "execution_count": 91,
     "metadata": {},
     "output_type": "execute_result"
    }
   ],
   "source": [
    "featuresCol"
   ]
  },
  {
   "cell_type": "code",
   "execution_count": 92,
   "metadata": {},
   "outputs": [],
   "source": [
    "# stage 1\n",
    "\n",
    "# creating the assebler and that features it is going to take in and what column it is going to place the vector inside \n",
    "assembler = VectorAssembler(inputCols = featuresCol, outputCol = 'unscaled_features')\n",
    "\n",
    "# adding it to the stages of the pipeline \n",
    "stages += [assembler]"
   ]
  },
  {
   "cell_type": "markdown",
   "metadata": {},
   "source": [
    "<br /> \n",
    "\n",
    "### PIPELINE STAGE 2: SCALING THE DATA"
   ]
  },
  {
   "cell_type": "code",
   "execution_count": 93,
   "metadata": {},
   "outputs": [],
   "source": [
    "# importing required library\n",
    "from pyspark.ml.feature import StandardScaler"
   ]
  },
  {
   "cell_type": "code",
   "execution_count": 94,
   "metadata": {},
   "outputs": [],
   "source": [
    "# stage 2\n",
    "\n",
    "# creating the scaler and the column it is going to take in and scale and the column the scaled data is going to go inside\n",
    "scaler = StandardScaler(inputCol = 'unscaled_features', outputCol = 'features')\n",
    "\n",
    "# adding to the stages of the pipeline\n",
    "stages += [scaler]"
   ]
  },
  {
   "cell_type": "markdown",
   "metadata": {},
   "source": [
    "<br /> \n",
    "\n",
    "### PIPELINE STAGE 3: MODEL CREATION"
   ]
  },
  {
   "cell_type": "code",
   "execution_count": 95,
   "metadata": {},
   "outputs": [],
   "source": [
    "# import the required libraries \n",
    "from pyspark.ml.classification import LogisticRegression \n",
    "from pyspark.ml.tuning import ParamGridBuilder, CrossValidator\n",
    "from pyspark.ml import Pipeline"
   ]
  },
  {
   "cell_type": "code",
   "execution_count": 96,
   "metadata": {},
   "outputs": [],
   "source": [
    "def get_sensitivity(predictions):\n",
    "    tp = predictions.filter(col('prediction') == 1.0).filter(col('prediction') == col('label')).count()\n",
    "    fn = predictions.filter(col('prediction') == 0.0).filter(col('prediction') != col('label')).count()\n",
    "\n",
    "    sensitivity = round(((tp/(tp+fn)) * 100), 3)\n",
    "    \n",
    "    return sensitivity"
   ]
  },
  {
   "cell_type": "code",
   "execution_count": 97,
   "metadata": {},
   "outputs": [],
   "source": [
    "def get_specificity(predictions):\n",
    "    fp = predictions.filter(col('prediction') == 1.0).filter(col('prediction') != col('label')).count()\n",
    "    tn = predictions.filter(col('prediction') == 0.0).filter(col('prediction') == col('label')).count()\n",
    "    \n",
    "    specificity = round(((tn/(tn+fp)) * 100), 3)\n",
    "    \n",
    "    return specificity"
   ]
  },
  {
   "cell_type": "code",
   "execution_count": 98,
   "metadata": {},
   "outputs": [],
   "source": [
    "def get_accuracy(predictions):\n",
    "    count = predictions.count()\n",
    "    tp = predictions.filter(col('prediction') == 1.0).filter(col('prediction') == col('label')).count()\n",
    "    tn = predictions.filter(col('prediction') == 0.0).filter(col('prediction') == col('label')).count()\n",
    "    \n",
    "    accuracy = round(((tp + tn)/count) * 100, 3)\n",
    "    \n",
    "    return accuracy"
   ]
  },
  {
   "cell_type": "markdown",
   "metadata": {},
   "source": [
    "#### PIPELINE WITH LOGISTIC REGRESSION"
   ]
  },
  {
   "cell_type": "code",
   "execution_count": 99,
   "metadata": {},
   "outputs": [],
   "source": [
    "# stage 3 the model \n",
    "lr = LogisticRegression(labelCol = 'label', featuresCol = 'features')\n",
    "\n",
    "stages += [lr]"
   ]
  },
  {
   "cell_type": "code",
   "execution_count": 100,
   "metadata": {},
   "outputs": [],
   "source": [
    "# creating the pipeline\n",
    "pipeline = Pipeline().setStages(stages)\n",
    "# creating the model\n",
    "models = pipeline.fit(train_data)\n",
    "# creating the predictions\n",
    "predictions = models.transform(test_data)"
   ]
  },
  {
   "cell_type": "code",
   "execution_count": 101,
   "metadata": {},
   "outputs": [
    {
     "name": "stdout",
     "output_type": "stream",
     "text": [
      "Accuracy: 81.218 \n",
      "Sensivity: 24.162 \n",
      "Specificity: 97.055 \n"
     ]
    }
   ],
   "source": [
    "# accuracy, recall values \n",
    "accuracy = get_accuracy(predictions)\n",
    "sensitivity = get_sensitivity(predictions)\n",
    "specificity = get_specificity(predictions)\n",
    "\n",
    "print('Accuracy: %s \\nSensivity: %s \\nSpecificity: %s ' % (accuracy, sensitivity, specificity))"
   ]
  },
  {
   "cell_type": "markdown",
   "metadata": {},
   "source": [
    "#### PIPELINE WITH LOGISTIC REGRESSION HYPERPARAMETER TUNING"
   ]
  },
  {
   "cell_type": "code",
   "execution_count": 102,
   "metadata": {},
   "outputs": [],
   "source": [
    "from pyspark.ml.evaluation import BinaryClassificationEvaluator\n",
    "import numpy as np"
   ]
  },
  {
   "cell_type": "code",
   "execution_count": 103,
   "metadata": {},
   "outputs": [],
   "source": [
    "# creating a param grid containing different values to see if it improves the sensitivity of the model\n",
    "param_grid = ParamGridBuilder().addGrid(lr.regParam, np.geomspace(1e-5, 1e5, 20)).build()\n",
    "\n",
    "\n",
    "# creating an instance of the BinaryClassificationEvaluator\n",
    "evaluator = BinaryClassificationEvaluator()"
   ]
  },
  {
   "cell_type": "code",
   "execution_count": 104,
   "metadata": {},
   "outputs": [],
   "source": [
    "# creating the cross validator \n",
    "cv = CrossValidator(\n",
    "    estimator = pipeline, \n",
    "    estimatorParamMaps = param_grid, \n",
    "    evaluator = evaluator, \n",
    "    numFolds = 5\n",
    ")"
   ]
  },
  {
   "cell_type": "code",
   "execution_count": 105,
   "metadata": {},
   "outputs": [],
   "source": [
    "model = cv.fit(train_data)"
   ]
  },
  {
   "cell_type": "code",
   "execution_count": 106,
   "metadata": {},
   "outputs": [],
   "source": [
    "result = model.bestModel.transform(test_data)"
   ]
  },
  {
   "cell_type": "code",
   "execution_count": 107,
   "metadata": {},
   "outputs": [
    {
     "name": "stdout",
     "output_type": "stream",
     "text": [
      "Accuracy: 81.229 \n",
      "Sensivity: 24.162 \n",
      "Specificity: 97.069 \n"
     ]
    }
   ],
   "source": [
    "# accuracy, recall values \n",
    "accuracy = get_accuracy(result)\n",
    "sensitivity = get_sensitivity(result)\n",
    "specificity = get_specificity(result)\n",
    "\n",
    "print('Accuracy: %s \\nSensivity: %s \\nSpecificity: %s ' % (accuracy, sensitivity, specificity))"
   ]
  },
  {
   "cell_type": "markdown",
   "metadata": {},
   "source": [
    "#### PIPELINE WITH RANDOM FOREST "
   ]
  },
  {
   "cell_type": "code",
   "execution_count": 108,
   "metadata": {},
   "outputs": [],
   "source": [
    "from pyspark.ml.classification import RandomForestClassifier"
   ]
  },
  {
   "cell_type": "code",
   "execution_count": 109,
   "metadata": {},
   "outputs": [],
   "source": [
    "# removing the logistic regression from the stages \n",
    "del stages[-1]"
   ]
  },
  {
   "cell_type": "code",
   "execution_count": 110,
   "metadata": {},
   "outputs": [
    {
     "data": {
      "text/plain": [
       "[VectorAssembler_e51e4aaad4da, StandardScaler_44b015986c88]"
      ]
     },
     "execution_count": 110,
     "metadata": {},
     "output_type": "execute_result"
    }
   ],
   "source": [
    "stages"
   ]
  },
  {
   "cell_type": "code",
   "execution_count": 111,
   "metadata": {},
   "outputs": [],
   "source": [
    "# adding random forest to the pipeline \n",
    "rf = RandomForestClassifier(labelCol = 'label', featuresCol = 'features', numTrees = 200) \n",
    "\n",
    "stages += [rf] "
   ]
  },
  {
   "cell_type": "code",
   "execution_count": 112,
   "metadata": {},
   "outputs": [],
   "source": [
    "# create the pipeline \n",
    "pipeline = Pipeline().setStages(stages)\n",
    "# creating the model\n",
    "models = pipeline.fit(train_data)\n",
    "# getting the predictions\n",
    "predictions = models.transform(test_data)"
   ]
  },
  {
   "cell_type": "code",
   "execution_count": 113,
   "metadata": {},
   "outputs": [
    {
     "name": "stdout",
     "output_type": "stream",
     "text": [
      "Accuracy: 81.229 \n",
      "Sensivity: 24.162 \n",
      "Specificity: 97.069 \n"
     ]
    }
   ],
   "source": [
    "# accuracy, recall values \n",
    "accuracy = get_accuracy(result)\n",
    "sensitivity = get_sensitivity(result)\n",
    "specificity = get_specificity(result)\n",
    "\n",
    "print('Accuracy: %s \\nSensivity: %s \\nSpecificity: %s ' % (accuracy, sensitivity, specificity))"
   ]
  },
  {
   "cell_type": "markdown",
   "metadata": {},
   "source": [
    "#### PIPELINE WITH RANDOM FOREST HYPERPARAMETER TUNING"
   ]
  },
  {
   "cell_type": "code",
   "execution_count": 114,
   "metadata": {},
   "outputs": [],
   "source": [
    "import pandas as pd"
   ]
  },
  {
   "cell_type": "code",
   "execution_count": 122,
   "metadata": {},
   "outputs": [],
   "source": [
    "def best_random_forest(stages, train_data, test_data):\n",
    "    rf_df = pd.DataFrame() # the dataframe that will contain the results to be returned \n",
    "    accuracy = []\n",
    "    sensitivity = []\n",
    "    specificity = []\n",
    "    \n",
    "    # run 10-200 trees \n",
    "    for i in range(10,201,10):\n",
    "        # delete the last rf \n",
    "        del stages[-1]\n",
    "        \n",
    "        # adding the randomforest to the stages of the pipeline\n",
    "        rf = RandomForestClassifier(labelCol = 'label', featuresCol = 'features', numTrees = i)\n",
    "        stages += [rf]\n",
    "        \n",
    "        # creating the pipeline, model, and prdictions \n",
    "        pipeline = Pipeline().setStages(stages)\n",
    "        models = pipeline.fit(train_data)\n",
    "        predictions = models.transform(test_data)\n",
    "        \n",
    "        # get the accuracy, sensitivity, and specificity and then store them in the list\n",
    "        accuracy.append(get_accuracy(predictions))\n",
    "        sensitivity.append(get_sensitivity(predictions))\n",
    "        specificity.append(get_specificity(predictions))\n",
    "        \n",
    "    # add the list to a column in the dataframe\n",
    "    rf_df['Accuracy'] = accuracy\n",
    "    rf_df['Sensitivity'] = sensitivity\n",
    "    rf_df['Specificity'] = specificity\n",
    "    \n",
    "    # return the dataframe\n",
    "    return rf_df"
   ]
  },
  {
   "cell_type": "code",
   "execution_count": 123,
   "metadata": {},
   "outputs": [],
   "source": [
    "rf_df = best_random_forest(stages, train_data, test_data)"
   ]
  },
  {
   "cell_type": "code",
   "execution_count": 124,
   "metadata": {},
   "outputs": [
    {
     "data": {
      "text/html": [
       "<div>\n",
       "<style scoped>\n",
       "    .dataframe tbody tr th:only-of-type {\n",
       "        vertical-align: middle;\n",
       "    }\n",
       "\n",
       "    .dataframe tbody tr th {\n",
       "        vertical-align: top;\n",
       "    }\n",
       "\n",
       "    .dataframe thead th {\n",
       "        text-align: right;\n",
       "    }\n",
       "</style>\n",
       "<table border=\"1\" class=\"dataframe\">\n",
       "  <thead>\n",
       "    <tr style=\"text-align: right;\">\n",
       "      <th></th>\n",
       "      <th>Accuracy</th>\n",
       "      <th>Sensitivity</th>\n",
       "      <th>Specificity</th>\n",
       "    </tr>\n",
       "  </thead>\n",
       "  <tbody>\n",
       "    <tr>\n",
       "      <th>13</th>\n",
       "      <td>81.979</td>\n",
       "      <td>34.416</td>\n",
       "      <td>95.181</td>\n",
       "    </tr>\n",
       "    <tr>\n",
       "      <th>17</th>\n",
       "      <td>81.968</td>\n",
       "      <td>34.416</td>\n",
       "      <td>95.167</td>\n",
       "    </tr>\n",
       "    <tr>\n",
       "      <th>3</th>\n",
       "      <td>82.012</td>\n",
       "      <td>34.315</td>\n",
       "      <td>95.252</td>\n",
       "    </tr>\n",
       "    <tr>\n",
       "      <th>2</th>\n",
       "      <td>81.946</td>\n",
       "      <td>34.264</td>\n",
       "      <td>95.181</td>\n",
       "    </tr>\n",
       "    <tr>\n",
       "      <th>8</th>\n",
       "      <td>81.957</td>\n",
       "      <td>34.264</td>\n",
       "      <td>95.195</td>\n",
       "    </tr>\n",
       "    <tr>\n",
       "      <th>9</th>\n",
       "      <td>81.912</td>\n",
       "      <td>34.264</td>\n",
       "      <td>95.139</td>\n",
       "    </tr>\n",
       "    <tr>\n",
       "      <th>18</th>\n",
       "      <td>81.979</td>\n",
       "      <td>34.213</td>\n",
       "      <td>95.237</td>\n",
       "    </tr>\n",
       "    <tr>\n",
       "      <th>11</th>\n",
       "      <td>81.957</td>\n",
       "      <td>34.162</td>\n",
       "      <td>95.223</td>\n",
       "    </tr>\n",
       "    <tr>\n",
       "      <th>0</th>\n",
       "      <td>81.879</td>\n",
       "      <td>34.112</td>\n",
       "      <td>95.139</td>\n",
       "    </tr>\n",
       "    <tr>\n",
       "      <th>6</th>\n",
       "      <td>82.001</td>\n",
       "      <td>34.112</td>\n",
       "      <td>95.294</td>\n",
       "    </tr>\n",
       "  </tbody>\n",
       "</table>\n",
       "</div>"
      ],
      "text/plain": [
       "    Accuracy  Sensitivity  Specificity\n",
       "13    81.979       34.416       95.181\n",
       "17    81.968       34.416       95.167\n",
       "3     82.012       34.315       95.252\n",
       "2     81.946       34.264       95.181\n",
       "8     81.957       34.264       95.195\n",
       "9     81.912       34.264       95.139\n",
       "18    81.979       34.213       95.237\n",
       "11    81.957       34.162       95.223\n",
       "0     81.879       34.112       95.139\n",
       "6     82.001       34.112       95.294"
      ]
     },
     "execution_count": 124,
     "metadata": {},
     "output_type": "execute_result"
    }
   ],
   "source": [
    "# viewing the 10 largest sensitivities that I got from the different pipelines using random forest\n",
    "rf_df.nlargest(10,'Sensitivity')"
   ]
  },
  {
   "cell_type": "code",
   "execution_count": 125,
   "metadata": {},
   "outputs": [
    {
     "data": {
      "text/html": [
       "<div>\n",
       "<style scoped>\n",
       "    .dataframe tbody tr th:only-of-type {\n",
       "        vertical-align: middle;\n",
       "    }\n",
       "\n",
       "    .dataframe tbody tr th {\n",
       "        vertical-align: top;\n",
       "    }\n",
       "\n",
       "    .dataframe thead th {\n",
       "        text-align: right;\n",
       "    }\n",
       "</style>\n",
       "<table border=\"1\" class=\"dataframe\">\n",
       "  <thead>\n",
       "    <tr style=\"text-align: right;\">\n",
       "      <th></th>\n",
       "      <th>Accuracy</th>\n",
       "      <th>Sensitivity</th>\n",
       "      <th>Specificity</th>\n",
       "    </tr>\n",
       "  </thead>\n",
       "  <tbody>\n",
       "    <tr>\n",
       "      <th>7</th>\n",
       "      <td>82.034</td>\n",
       "      <td>33.909</td>\n",
       "      <td>95.392</td>\n",
       "    </tr>\n",
       "    <tr>\n",
       "      <th>3</th>\n",
       "      <td>82.012</td>\n",
       "      <td>34.315</td>\n",
       "      <td>95.252</td>\n",
       "    </tr>\n",
       "    <tr>\n",
       "      <th>6</th>\n",
       "      <td>82.001</td>\n",
       "      <td>34.112</td>\n",
       "      <td>95.294</td>\n",
       "    </tr>\n",
       "    <tr>\n",
       "      <th>13</th>\n",
       "      <td>81.979</td>\n",
       "      <td>34.416</td>\n",
       "      <td>95.181</td>\n",
       "    </tr>\n",
       "    <tr>\n",
       "      <th>18</th>\n",
       "      <td>81.979</td>\n",
       "      <td>34.213</td>\n",
       "      <td>95.237</td>\n",
       "    </tr>\n",
       "    <tr>\n",
       "      <th>17</th>\n",
       "      <td>81.968</td>\n",
       "      <td>34.416</td>\n",
       "      <td>95.167</td>\n",
       "    </tr>\n",
       "    <tr>\n",
       "      <th>4</th>\n",
       "      <td>81.957</td>\n",
       "      <td>34.010</td>\n",
       "      <td>95.266</td>\n",
       "    </tr>\n",
       "    <tr>\n",
       "      <th>8</th>\n",
       "      <td>81.957</td>\n",
       "      <td>34.264</td>\n",
       "      <td>95.195</td>\n",
       "    </tr>\n",
       "    <tr>\n",
       "      <th>11</th>\n",
       "      <td>81.957</td>\n",
       "      <td>34.162</td>\n",
       "      <td>95.223</td>\n",
       "    </tr>\n",
       "    <tr>\n",
       "      <th>2</th>\n",
       "      <td>81.946</td>\n",
       "      <td>34.264</td>\n",
       "      <td>95.181</td>\n",
       "    </tr>\n",
       "  </tbody>\n",
       "</table>\n",
       "</div>"
      ],
      "text/plain": [
       "    Accuracy  Sensitivity  Specificity\n",
       "7     82.034       33.909       95.392\n",
       "3     82.012       34.315       95.252\n",
       "6     82.001       34.112       95.294\n",
       "13    81.979       34.416       95.181\n",
       "18    81.979       34.213       95.237\n",
       "17    81.968       34.416       95.167\n",
       "4     81.957       34.010       95.266\n",
       "8     81.957       34.264       95.195\n",
       "11    81.957       34.162       95.223\n",
       "2     81.946       34.264       95.181"
      ]
     },
     "execution_count": 125,
     "metadata": {},
     "output_type": "execute_result"
    }
   ],
   "source": [
    "# viewing the 10 largest accuracy that I got from the different pipelines using random forest\n",
    "rf_df.nlargest(10,'Accuracy')"
   ]
  },
  {
   "cell_type": "markdown",
   "metadata": {},
   "source": [
    "## CONCLUSION "
   ]
  },
  {
   "cell_type": "markdown",
   "metadata": {},
   "source": [
    "The best classification technique to use to use: __Random forest with 13 trees__. It not only has a higher sensitivity but also a higher accuracy than the logisitc regression. "
   ]
  }
 ],
 "metadata": {
  "kernelspec": {
   "display_name": "Python 3",
   "language": "python",
   "name": "python3"
  },
  "language_info": {
   "codemirror_mode": {
    "name": "ipython",
    "version": 3
   },
   "file_extension": ".py",
   "mimetype": "text/x-python",
   "name": "python",
   "nbconvert_exporter": "python",
   "pygments_lexer": "ipython3",
   "version": "3.7.6"
  }
 },
 "nbformat": 4,
 "nbformat_minor": 4
}
